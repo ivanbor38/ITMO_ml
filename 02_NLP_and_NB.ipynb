{
 "cells": [
  {
   "cell_type": "markdown",
   "metadata": {},
   "source": [
    "Иван Нужденко, группа c4111"
   ]
  },
  {
   "cell_type": "markdown",
   "metadata": {},
   "source": [
    "Зависимости: python 3.5, anaconda3, plotly"
   ]
  },
  {
   "cell_type": "code",
   "execution_count": 74,
   "metadata": {
    "collapsed": true
   },
   "outputs": [],
   "source": [
    "import pandas as pd"
   ]
  },
  {
   "cell_type": "markdown",
   "metadata": {},
   "source": [
    "Функция into_dataframe парсит приложенные текстовые файлы и конвертирует их в pd.DataFrame"
   ]
  },
  {
   "cell_type": "code",
   "execution_count": 75,
   "metadata": {
    "collapsed": true
   },
   "outputs": [],
   "source": [
    "def into_dataframe(filename):\n",
    "    lst = []\n",
    "    with open(filename, 'r') as f:\n",
    "        for line in f:\n",
    "            if not line.strip():\n",
    "                break\n",
    "            X, y = line.strip().rsplit(',', 1)\n",
    "            lst.append([X, y])\n",
    "    \n",
    "    df = pd.DataFrame(lst,  columns=['message', 'label' ])\n",
    "    df['target'] = df.label.map({'ham':0, 'spam':1})\n",
    "    return df"
   ]
  },
  {
   "cell_type": "code",
   "execution_count": 76,
   "metadata": {
    "collapsed": true
   },
   "outputs": [],
   "source": [
    "df = into_dataframe('english_big.txt')"
   ]
  },
  {
   "cell_type": "code",
   "execution_count": 77,
   "metadata": {},
   "outputs": [
    {
     "data": {
      "text/html": [
       "<div>\n",
       "<style>\n",
       "    .dataframe thead tr:only-child th {\n",
       "        text-align: right;\n",
       "    }\n",
       "\n",
       "    .dataframe thead th {\n",
       "        text-align: left;\n",
       "    }\n",
       "\n",
       "    .dataframe tbody tr th {\n",
       "        vertical-align: top;\n",
       "    }\n",
       "</style>\n",
       "<table border=\"1\" class=\"dataframe\">\n",
       "  <thead>\n",
       "    <tr style=\"text-align: right;\">\n",
       "      <th></th>\n",
       "      <th>message</th>\n",
       "      <th>label</th>\n",
       "      <th>target</th>\n",
       "    </tr>\n",
       "  </thead>\n",
       "  <tbody>\n",
       "    <tr>\n",
       "      <th>0</th>\n",
       "      <td>Urgent! call 09061749602 from Landline. Your c...</td>\n",
       "      <td>spam</td>\n",
       "      <td>1</td>\n",
       "    </tr>\n",
       "    <tr>\n",
       "      <th>1</th>\n",
       "      <td>+449071512431 URGENT! This is the 2nd attempt ...</td>\n",
       "      <td>spam</td>\n",
       "      <td>1</td>\n",
       "    </tr>\n",
       "    <tr>\n",
       "      <th>2</th>\n",
       "      <td>FREE for 1st week! No1 Nokia tone 4 ur mob eve...</td>\n",
       "      <td>spam</td>\n",
       "      <td>1</td>\n",
       "    </tr>\n",
       "    <tr>\n",
       "      <th>3</th>\n",
       "      <td>Urgent! call 09066612661 from landline. Your c...</td>\n",
       "      <td>spam</td>\n",
       "      <td>1</td>\n",
       "    </tr>\n",
       "    <tr>\n",
       "      <th>4</th>\n",
       "      <td>WINNER!! As a valued network customer you have...</td>\n",
       "      <td>spam</td>\n",
       "      <td>1</td>\n",
       "    </tr>\n",
       "    <tr>\n",
       "      <th>5</th>\n",
       "      <td>okmail: Dear Dave this is your final notice to...</td>\n",
       "      <td>spam</td>\n",
       "      <td>1</td>\n",
       "    </tr>\n",
       "    <tr>\n",
       "      <th>6</th>\n",
       "      <td>07732584351 - Rodger Burns - MSG = We tried to...</td>\n",
       "      <td>spam</td>\n",
       "      <td>1</td>\n",
       "    </tr>\n",
       "    <tr>\n",
       "      <th>7</th>\n",
       "      <td>\"URGENT! This is the 2nd attempt to contact U!...</td>\n",
       "      <td>spam</td>\n",
       "      <td>1</td>\n",
       "    </tr>\n",
       "    <tr>\n",
       "      <th>8</th>\n",
       "      <td>Congrats! Nokia 3650 video camera phone is you...</td>\n",
       "      <td>spam</td>\n",
       "      <td>1</td>\n",
       "    </tr>\n",
       "    <tr>\n",
       "      <th>9</th>\n",
       "      <td>Urgent! Please call 0906346330. Your ABTA comp...</td>\n",
       "      <td>spam</td>\n",
       "      <td>1</td>\n",
       "    </tr>\n",
       "  </tbody>\n",
       "</table>\n",
       "</div>"
      ],
      "text/plain": [
       "                                             message label  target\n",
       "0  Urgent! call 09061749602 from Landline. Your c...  spam       1\n",
       "1  +449071512431 URGENT! This is the 2nd attempt ...  spam       1\n",
       "2  FREE for 1st week! No1 Nokia tone 4 ur mob eve...  spam       1\n",
       "3  Urgent! call 09066612661 from landline. Your c...  spam       1\n",
       "4  WINNER!! As a valued network customer you have...  spam       1\n",
       "5  okmail: Dear Dave this is your final notice to...  spam       1\n",
       "6  07732584351 - Rodger Burns - MSG = We tried to...  spam       1\n",
       "7  \"URGENT! This is the 2nd attempt to contact U!...  spam       1\n",
       "8  Congrats! Nokia 3650 video camera phone is you...  spam       1\n",
       "9  Urgent! Please call 0906346330. Your ABTA comp...  spam       1"
      ]
     },
     "execution_count": 77,
     "metadata": {},
     "output_type": "execute_result"
    }
   ],
   "source": [
    "df.head(10)"
   ]
  },
  {
   "cell_type": "code",
   "execution_count": 78,
   "metadata": {
    "collapsed": true
   },
   "outputs": [],
   "source": [
    "X = df.message\n",
    "y = df.target"
   ]
  },
  {
   "cell_type": "code",
   "execution_count": 79,
   "metadata": {},
   "outputs": [
    {
     "data": {
      "text/plain": [
       "Counter({0: 1002, 1: 322})"
      ]
     },
     "execution_count": 79,
     "metadata": {},
     "output_type": "execute_result"
    }
   ],
   "source": [
    "from collections import Counter\n",
    "\n",
    "Counter(y)"
   ]
  },
  {
   "cell_type": "markdown",
   "metadata": {},
   "source": [
    "Разобьем выборку на тренировочную и тестовую в соотношении 80/20"
   ]
  },
  {
   "cell_type": "code",
   "execution_count": 80,
   "metadata": {
    "collapsed": true
   },
   "outputs": [],
   "source": [
    "from sklearn.model_selection import train_test_split\n",
    "X_train, X_test, y_train, y_test = train_test_split(X, y, test_size=.2, random_state=42)"
   ]
  },
  {
   "cell_type": "code",
   "execution_count": 81,
   "metadata": {},
   "outputs": [
    {
     "data": {
      "text/plain": [
       "((1059,), (265,))"
      ]
     },
     "execution_count": 81,
     "metadata": {},
     "output_type": "execute_result"
    }
   ],
   "source": [
    "X_train.shape, X_test.shape"
   ]
  },
  {
   "cell_type": "markdown",
   "metadata": {},
   "source": [
    "Векторизуем sms-сообщения с помощью CountVectorizer"
   ]
  },
  {
   "cell_type": "code",
   "execution_count": 82,
   "metadata": {
    "collapsed": true
   },
   "outputs": [],
   "source": [
    "from sklearn.feature_extraction.text import CountVectorizer"
   ]
  },
  {
   "cell_type": "code",
   "execution_count": 83,
   "metadata": {},
   "outputs": [
    {
     "data": {
      "text/plain": [
       "<1059x3124 sparse matrix of type '<class 'numpy.int64'>'\n",
       "\twith 14366 stored elements in Compressed Sparse Row format>"
      ]
     },
     "execution_count": 83,
     "metadata": {},
     "output_type": "execute_result"
    }
   ],
   "source": [
    "vect = CountVectorizer()\n",
    "\n",
    "X_train_sparse = vect.fit_transform(X_train)\n",
    "X_train_sparse"
   ]
  },
  {
   "cell_type": "code",
   "execution_count": 84,
   "metadata": {
    "collapsed": true
   },
   "outputs": [],
   "source": [
    "X_train_human_readable = pd.DataFrame(X_train_sparse.toarray(), columns=vect.get_feature_names())"
   ]
  },
  {
   "cell_type": "code",
   "execution_count": 85,
   "metadata": {},
   "outputs": [
    {
     "data": {
      "text/html": [
       "<div>\n",
       "<style>\n",
       "    .dataframe thead tr:only-child th {\n",
       "        text-align: right;\n",
       "    }\n",
       "\n",
       "    .dataframe thead th {\n",
       "        text-align: left;\n",
       "    }\n",
       "\n",
       "    .dataframe tbody tr th {\n",
       "        vertical-align: top;\n",
       "    }\n",
       "</style>\n",
       "<table border=\"1\" class=\"dataframe\">\n",
       "  <thead>\n",
       "    <tr style=\"text-align: right;\">\n",
       "      <th></th>\n",
       "      <th>00</th>\n",
       "      <th>000</th>\n",
       "      <th>000pes</th>\n",
       "      <th>008704050406</th>\n",
       "      <th>0121</th>\n",
       "      <th>01223585334</th>\n",
       "      <th>0125698789</th>\n",
       "      <th>02</th>\n",
       "      <th>021</th>\n",
       "      <th>03</th>\n",
       "      <th>...</th>\n",
       "      <th>ј350</th>\n",
       "      <th>ј400</th>\n",
       "      <th>ј450</th>\n",
       "      <th>ј48</th>\n",
       "      <th>ј500</th>\n",
       "      <th>ј5000</th>\n",
       "      <th>ј75</th>\n",
       "      <th>ј750</th>\n",
       "      <th>ј800</th>\n",
       "      <th>ј900</th>\n",
       "    </tr>\n",
       "  </thead>\n",
       "  <tbody>\n",
       "    <tr>\n",
       "      <th>0</th>\n",
       "      <td>0</td>\n",
       "      <td>0</td>\n",
       "      <td>0</td>\n",
       "      <td>0</td>\n",
       "      <td>0</td>\n",
       "      <td>0</td>\n",
       "      <td>0</td>\n",
       "      <td>0</td>\n",
       "      <td>0</td>\n",
       "      <td>0</td>\n",
       "      <td>...</td>\n",
       "      <td>0</td>\n",
       "      <td>0</td>\n",
       "      <td>0</td>\n",
       "      <td>0</td>\n",
       "      <td>0</td>\n",
       "      <td>0</td>\n",
       "      <td>0</td>\n",
       "      <td>0</td>\n",
       "      <td>0</td>\n",
       "      <td>0</td>\n",
       "    </tr>\n",
       "    <tr>\n",
       "      <th>1</th>\n",
       "      <td>0</td>\n",
       "      <td>0</td>\n",
       "      <td>0</td>\n",
       "      <td>0</td>\n",
       "      <td>0</td>\n",
       "      <td>0</td>\n",
       "      <td>0</td>\n",
       "      <td>0</td>\n",
       "      <td>0</td>\n",
       "      <td>0</td>\n",
       "      <td>...</td>\n",
       "      <td>0</td>\n",
       "      <td>0</td>\n",
       "      <td>0</td>\n",
       "      <td>0</td>\n",
       "      <td>0</td>\n",
       "      <td>0</td>\n",
       "      <td>0</td>\n",
       "      <td>0</td>\n",
       "      <td>0</td>\n",
       "      <td>0</td>\n",
       "    </tr>\n",
       "    <tr>\n",
       "      <th>2</th>\n",
       "      <td>0</td>\n",
       "      <td>0</td>\n",
       "      <td>0</td>\n",
       "      <td>0</td>\n",
       "      <td>0</td>\n",
       "      <td>0</td>\n",
       "      <td>0</td>\n",
       "      <td>0</td>\n",
       "      <td>0</td>\n",
       "      <td>0</td>\n",
       "      <td>...</td>\n",
       "      <td>0</td>\n",
       "      <td>0</td>\n",
       "      <td>0</td>\n",
       "      <td>0</td>\n",
       "      <td>0</td>\n",
       "      <td>0</td>\n",
       "      <td>0</td>\n",
       "      <td>0</td>\n",
       "      <td>0</td>\n",
       "      <td>0</td>\n",
       "    </tr>\n",
       "    <tr>\n",
       "      <th>3</th>\n",
       "      <td>0</td>\n",
       "      <td>0</td>\n",
       "      <td>0</td>\n",
       "      <td>0</td>\n",
       "      <td>0</td>\n",
       "      <td>0</td>\n",
       "      <td>0</td>\n",
       "      <td>0</td>\n",
       "      <td>0</td>\n",
       "      <td>0</td>\n",
       "      <td>...</td>\n",
       "      <td>0</td>\n",
       "      <td>0</td>\n",
       "      <td>0</td>\n",
       "      <td>0</td>\n",
       "      <td>0</td>\n",
       "      <td>0</td>\n",
       "      <td>0</td>\n",
       "      <td>0</td>\n",
       "      <td>0</td>\n",
       "      <td>0</td>\n",
       "    </tr>\n",
       "    <tr>\n",
       "      <th>4</th>\n",
       "      <td>0</td>\n",
       "      <td>0</td>\n",
       "      <td>0</td>\n",
       "      <td>0</td>\n",
       "      <td>0</td>\n",
       "      <td>0</td>\n",
       "      <td>0</td>\n",
       "      <td>0</td>\n",
       "      <td>0</td>\n",
       "      <td>0</td>\n",
       "      <td>...</td>\n",
       "      <td>0</td>\n",
       "      <td>0</td>\n",
       "      <td>0</td>\n",
       "      <td>0</td>\n",
       "      <td>0</td>\n",
       "      <td>0</td>\n",
       "      <td>0</td>\n",
       "      <td>0</td>\n",
       "      <td>0</td>\n",
       "      <td>0</td>\n",
       "    </tr>\n",
       "  </tbody>\n",
       "</table>\n",
       "<p>5 rows × 3124 columns</p>\n",
       "</div>"
      ],
      "text/plain": [
       "   00  000  000pes  008704050406  0121  01223585334  0125698789  02  021  03  \\\n",
       "0   0    0       0             0     0            0           0   0    0   0   \n",
       "1   0    0       0             0     0            0           0   0    0   0   \n",
       "2   0    0       0             0     0            0           0   0    0   0   \n",
       "3   0    0       0             0     0            0           0   0    0   0   \n",
       "4   0    0       0             0     0            0           0   0    0   0   \n",
       "\n",
       "   ...   ј350  ј400  ј450  ј48  ј500  ј5000  ј75  ј750  ј800  ј900  \n",
       "0  ...      0     0     0    0     0      0    0     0     0     0  \n",
       "1  ...      0     0     0    0     0      0    0     0     0     0  \n",
       "2  ...      0     0     0    0     0      0    0     0     0     0  \n",
       "3  ...      0     0     0    0     0      0    0     0     0     0  \n",
       "4  ...      0     0     0    0     0      0    0     0     0     0  \n",
       "\n",
       "[5 rows x 3124 columns]"
      ]
     },
     "execution_count": 85,
     "metadata": {},
     "output_type": "execute_result"
    }
   ],
   "source": [
    "X_train_human_readable.head()"
   ]
  },
  {
   "cell_type": "code",
   "execution_count": 86,
   "metadata": {
    "collapsed": true
   },
   "outputs": [],
   "source": [
    "X_test_sparse = vect.transform(X_test)"
   ]
  },
  {
   "cell_type": "code",
   "execution_count": 87,
   "metadata": {},
   "outputs": [
    {
     "data": {
      "text/plain": [
       "<265x3124 sparse matrix of type '<class 'numpy.int64'>'\n",
       "\twith 2914 stored elements in Compressed Sparse Row format>"
      ]
     },
     "execution_count": 87,
     "metadata": {},
     "output_type": "execute_result"
    }
   ],
   "source": [
    "X_test_sparse"
   ]
  },
  {
   "cell_type": "markdown",
   "metadata": {},
   "source": [
    "Обучим Байесовский классификатор и оценим качество модели"
   ]
  },
  {
   "cell_type": "code",
   "execution_count": 88,
   "metadata": {
    "collapsed": true
   },
   "outputs": [],
   "source": [
    "from sklearn.naive_bayes import GaussianNB, MultinomialNB, BernoulliNB\n",
    "from sklearn.metrics import accuracy_score, classification_report\n"
   ]
  },
  {
   "cell_type": "code",
   "execution_count": 89,
   "metadata": {},
   "outputs": [
    {
     "name": "stdout",
     "output_type": "stream",
     "text": [
      "             precision    recall  f1-score   support\n",
      "\n",
      "          0       0.99      0.99      0.99       199\n",
      "          1       0.98      0.98      0.98        66\n",
      "\n",
      "avg / total       0.99      0.99      0.99       265\n",
      "\n"
     ]
    }
   ],
   "source": [
    "multi = MultinomialNB()\n",
    "multi.fit(X_train_sparse, y_train)\n",
    "pred = multi.predict(X_test_sparse)\n",
    "print(classification_report(pred, y_test))\n"
   ]
  },
  {
   "cell_type": "code",
   "execution_count": 90,
   "metadata": {},
   "outputs": [
    {
     "name": "stdout",
     "output_type": "stream",
     "text": [
      "             precision    recall  f1-score   support\n",
      "\n",
      "          0       0.91      0.99      0.95       182\n",
      "          1       0.98      0.78      0.87        83\n",
      "\n",
      "avg / total       0.93      0.93      0.93       265\n",
      "\n"
     ]
    }
   ],
   "source": [
    "gauss = GaussianNB()\n",
    "gauss.fit(X_train_sparse.toarray(), y_train)\n",
    "pred_gauss = gauss.predict(X_test_sparse.toarray())\n",
    "print(classification_report(pred_gauss, y_test))"
   ]
  },
  {
   "cell_type": "code",
   "execution_count": 91,
   "metadata": {},
   "outputs": [
    {
     "name": "stdout",
     "output_type": "stream",
     "text": [
      "             precision    recall  f1-score   support\n",
      "\n",
      "          0       1.00      0.99      0.99       201\n",
      "          1       0.97      1.00      0.98        64\n",
      "\n",
      "avg / total       0.99      0.99      0.99       265\n",
      "\n"
     ]
    }
   ],
   "source": [
    "bernoulli = BernoulliNB()\n",
    "bernoulli.fit(X_train_sparse.toarray(), y_train)\n",
    "pred_bernoulli = bernoulli.predict(X_test_sparse.toarray())\n",
    "print(classification_report(pred_bernoulli, y_test))"
   ]
  },
  {
   "cell_type": "markdown",
   "metadata": {},
   "source": [
    "Без настройки параметров и кросс-валидации лучший результат показывает MultinomialNB и BernoulliNB"
   ]
  },
  {
   "cell_type": "code",
   "execution_count": 92,
   "metadata": {},
   "outputs": [
    {
     "data": {
      "text/html": [
       "<script>requirejs.config({paths: { 'plotly': ['https://cdn.plot.ly/plotly-latest.min']},});if(!window.Plotly) {{require(['plotly'],function(plotly) {window.Plotly=plotly;});}}</script>"
      ],
      "text/vnd.plotly.v1+html": [
       "<script>requirejs.config({paths: { 'plotly': ['https://cdn.plot.ly/plotly-latest.min']},});if(!window.Plotly) {{require(['plotly'],function(plotly) {window.Plotly=plotly;});}}</script>"
      ]
     },
     "metadata": {},
     "output_type": "display_data"
    }
   ],
   "source": [
    "from plotly.offline import download_plotlyjs, init_notebook_mode, plot, iplot\n",
    "import plotly\n",
    "import plotly.graph_objs as go\n",
    "\n",
    "init_notebook_mode(connected=True)"
   ]
  },
  {
   "cell_type": "markdown",
   "metadata": {},
   "source": [
    "Посчитаем какие слова наиболее часто появлялись в сообщениях, помеченных как \"спам\" и как \"не спам\". Будем использовать результаты алгоритма MultinomialNB"
   ]
  },
  {
   "cell_type": "markdown",
   "metadata": {},
   "source": [
    "Метод .feature_count_ показывает сколько раз каждое слово из набора было в сообщении классифицированном, как спам"
   ]
  },
  {
   "cell_type": "code",
   "execution_count": 93,
   "metadata": {},
   "outputs": [
    {
     "data": {
      "text/plain": [
       "array([[  0.,   0.,   1., ...,   0.,   0.,   0.],\n",
       "       [  5.,  14.,   0., ...,   1.,   5.,   7.]])"
      ]
     },
     "execution_count": 93,
     "metadata": {},
     "output_type": "execute_result"
    }
   ],
   "source": [
    "X_train_tokens = vect.get_feature_names()\n",
    "multi.feature_count_"
   ]
  },
  {
   "cell_type": "code",
   "execution_count": 94,
   "metadata": {
    "collapsed": true
   },
   "outputs": [],
   "source": [
    "ham_token_count = multi.feature_count_[0, :]\n",
    "spam_token_count = multi.feature_count_[1, :]"
   ]
  },
  {
   "cell_type": "code",
   "execution_count": 95,
   "metadata": {},
   "outputs": [
    {
     "data": {
      "text/html": [
       "<div>\n",
       "<style>\n",
       "    .dataframe thead tr:only-child th {\n",
       "        text-align: right;\n",
       "    }\n",
       "\n",
       "    .dataframe thead th {\n",
       "        text-align: left;\n",
       "    }\n",
       "\n",
       "    .dataframe tbody tr th {\n",
       "        vertical-align: top;\n",
       "    }\n",
       "</style>\n",
       "<table border=\"1\" class=\"dataframe\">\n",
       "  <thead>\n",
       "    <tr style=\"text-align: right;\">\n",
       "      <th></th>\n",
       "      <th>ham</th>\n",
       "      <th>spam</th>\n",
       "    </tr>\n",
       "    <tr>\n",
       "      <th>token</th>\n",
       "      <th></th>\n",
       "      <th></th>\n",
       "    </tr>\n",
       "  </thead>\n",
       "  <tbody>\n",
       "    <tr>\n",
       "      <th>00</th>\n",
       "      <td>1.0</td>\n",
       "      <td>6.0</td>\n",
       "    </tr>\n",
       "    <tr>\n",
       "      <th>000</th>\n",
       "      <td>1.0</td>\n",
       "      <td>15.0</td>\n",
       "    </tr>\n",
       "    <tr>\n",
       "      <th>000pes</th>\n",
       "      <td>2.0</td>\n",
       "      <td>1.0</td>\n",
       "    </tr>\n",
       "    <tr>\n",
       "      <th>008704050406</th>\n",
       "      <td>1.0</td>\n",
       "      <td>2.0</td>\n",
       "    </tr>\n",
       "    <tr>\n",
       "      <th>0121</th>\n",
       "      <td>1.0</td>\n",
       "      <td>2.0</td>\n",
       "    </tr>\n",
       "  </tbody>\n",
       "</table>\n",
       "</div>"
      ],
      "text/plain": [
       "              ham  spam\n",
       "token                  \n",
       "00            1.0   6.0\n",
       "000           1.0  15.0\n",
       "000pes        2.0   1.0\n",
       "008704050406  1.0   2.0\n",
       "0121          1.0   2.0"
      ]
     },
     "execution_count": 95,
     "metadata": {},
     "output_type": "execute_result"
    }
   ],
   "source": [
    "tokens = pd.DataFrame({'token':X_train_tokens, 'ham':ham_token_count+1, 'spam':spam_token_count+1}).set_index('token')\n",
    "tokens.head()"
   ]
  },
  {
   "cell_type": "markdown",
   "metadata": {},
   "source": [
    "То же самое в относительных показателях"
   ]
  },
  {
   "cell_type": "code",
   "execution_count": 96,
   "metadata": {},
   "outputs": [
    {
     "data": {
      "text/html": [
       "<div>\n",
       "<style>\n",
       "    .dataframe thead tr:only-child th {\n",
       "        text-align: right;\n",
       "    }\n",
       "\n",
       "    .dataframe thead th {\n",
       "        text-align: left;\n",
       "    }\n",
       "\n",
       "    .dataframe tbody tr th {\n",
       "        vertical-align: top;\n",
       "    }\n",
       "</style>\n",
       "<table border=\"1\" class=\"dataframe\">\n",
       "  <thead>\n",
       "    <tr style=\"text-align: right;\">\n",
       "      <th></th>\n",
       "      <th>ham</th>\n",
       "      <th>spam</th>\n",
       "      <th>ham_relative</th>\n",
       "      <th>spam_relative</th>\n",
       "      <th>spam_ratio</th>\n",
       "    </tr>\n",
       "    <tr>\n",
       "      <th>token</th>\n",
       "      <th></th>\n",
       "      <th></th>\n",
       "      <th></th>\n",
       "      <th></th>\n",
       "      <th></th>\n",
       "    </tr>\n",
       "  </thead>\n",
       "  <tbody>\n",
       "    <tr>\n",
       "      <th>00</th>\n",
       "      <td>1.0</td>\n",
       "      <td>6.0</td>\n",
       "      <td>0.001245</td>\n",
       "      <td>0.023438</td>\n",
       "      <td>18.820312</td>\n",
       "    </tr>\n",
       "    <tr>\n",
       "      <th>000</th>\n",
       "      <td>1.0</td>\n",
       "      <td>15.0</td>\n",
       "      <td>0.001245</td>\n",
       "      <td>0.058594</td>\n",
       "      <td>47.050781</td>\n",
       "    </tr>\n",
       "    <tr>\n",
       "      <th>000pes</th>\n",
       "      <td>2.0</td>\n",
       "      <td>1.0</td>\n",
       "      <td>0.002491</td>\n",
       "      <td>0.003906</td>\n",
       "      <td>1.568359</td>\n",
       "    </tr>\n",
       "    <tr>\n",
       "      <th>008704050406</th>\n",
       "      <td>1.0</td>\n",
       "      <td>2.0</td>\n",
       "      <td>0.001245</td>\n",
       "      <td>0.007812</td>\n",
       "      <td>6.273438</td>\n",
       "    </tr>\n",
       "    <tr>\n",
       "      <th>0121</th>\n",
       "      <td>1.0</td>\n",
       "      <td>2.0</td>\n",
       "      <td>0.001245</td>\n",
       "      <td>0.007812</td>\n",
       "      <td>6.273438</td>\n",
       "    </tr>\n",
       "  </tbody>\n",
       "</table>\n",
       "</div>"
      ],
      "text/plain": [
       "              ham  spam  ham_relative  spam_relative  spam_ratio\n",
       "token                                                           \n",
       "00            1.0   6.0      0.001245       0.023438   18.820312\n",
       "000           1.0  15.0      0.001245       0.058594   47.050781\n",
       "000pes        2.0   1.0      0.002491       0.003906    1.568359\n",
       "008704050406  1.0   2.0      0.001245       0.007812    6.273438\n",
       "0121          1.0   2.0      0.001245       0.007812    6.273438"
      ]
     },
     "execution_count": 96,
     "metadata": {},
     "output_type": "execute_result"
    }
   ],
   "source": [
    "tokens['ham_relative'] = tokens.ham / multi.class_count_[0]\n",
    "tokens['spam_relative'] = tokens.spam / multi.class_count_[1]\n",
    "tokens['spam_ratio'] = tokens.spam_relative / tokens.ham_relative\n",
    "tokens.head()"
   ]
  },
  {
   "cell_type": "markdown",
   "metadata": {},
   "source": [
    "Топ-20 слов, появляющихся в сообщениях с пометкой \"спам\""
   ]
  },
  {
   "cell_type": "code",
   "execution_count": 97,
   "metadata": {},
   "outputs": [
    {
     "data": {
      "text/html": [
       "<div>\n",
       "<style>\n",
       "    .dataframe thead tr:only-child th {\n",
       "        text-align: right;\n",
       "    }\n",
       "\n",
       "    .dataframe thead th {\n",
       "        text-align: left;\n",
       "    }\n",
       "\n",
       "    .dataframe tbody tr th {\n",
       "        vertical-align: top;\n",
       "    }\n",
       "</style>\n",
       "<table border=\"1\" class=\"dataframe\">\n",
       "  <thead>\n",
       "    <tr style=\"text-align: right;\">\n",
       "      <th></th>\n",
       "      <th>ham</th>\n",
       "      <th>spam</th>\n",
       "      <th>ham_relative</th>\n",
       "      <th>spam_relative</th>\n",
       "      <th>spam_ratio</th>\n",
       "    </tr>\n",
       "    <tr>\n",
       "      <th>token</th>\n",
       "      <th></th>\n",
       "      <th></th>\n",
       "      <th></th>\n",
       "      <th></th>\n",
       "      <th></th>\n",
       "    </tr>\n",
       "  </thead>\n",
       "  <tbody>\n",
       "    <tr>\n",
       "      <th>prize</th>\n",
       "      <td>1.0</td>\n",
       "      <td>53.0</td>\n",
       "      <td>0.001245</td>\n",
       "      <td>0.207031</td>\n",
       "      <td>166.246094</td>\n",
       "    </tr>\n",
       "    <tr>\n",
       "      <th>claim</th>\n",
       "      <td>1.0</td>\n",
       "      <td>53.0</td>\n",
       "      <td>0.001245</td>\n",
       "      <td>0.207031</td>\n",
       "      <td>166.246094</td>\n",
       "    </tr>\n",
       "    <tr>\n",
       "      <th>www</th>\n",
       "      <td>1.0</td>\n",
       "      <td>34.0</td>\n",
       "      <td>0.001245</td>\n",
       "      <td>0.132812</td>\n",
       "      <td>106.648438</td>\n",
       "    </tr>\n",
       "    <tr>\n",
       "      <th>urgent</th>\n",
       "      <td>1.0</td>\n",
       "      <td>34.0</td>\n",
       "      <td>0.001245</td>\n",
       "      <td>0.132812</td>\n",
       "      <td>106.648438</td>\n",
       "    </tr>\n",
       "    <tr>\n",
       "      <th>contact</th>\n",
       "      <td>1.0</td>\n",
       "      <td>33.0</td>\n",
       "      <td>0.001245</td>\n",
       "      <td>0.128906</td>\n",
       "      <td>103.511719</td>\n",
       "    </tr>\n",
       "    <tr>\n",
       "      <th>150p</th>\n",
       "      <td>1.0</td>\n",
       "      <td>32.0</td>\n",
       "      <td>0.001245</td>\n",
       "      <td>0.125000</td>\n",
       "      <td>100.375000</td>\n",
       "    </tr>\n",
       "    <tr>\n",
       "      <th>nokia</th>\n",
       "      <td>1.0</td>\n",
       "      <td>31.0</td>\n",
       "      <td>0.001245</td>\n",
       "      <td>0.121094</td>\n",
       "      <td>97.238281</td>\n",
       "    </tr>\n",
       "    <tr>\n",
       "      <th>cash</th>\n",
       "      <td>1.0</td>\n",
       "      <td>30.0</td>\n",
       "      <td>0.001245</td>\n",
       "      <td>0.117188</td>\n",
       "      <td>94.101562</td>\n",
       "    </tr>\n",
       "    <tr>\n",
       "      <th>win</th>\n",
       "      <td>1.0</td>\n",
       "      <td>27.0</td>\n",
       "      <td>0.001245</td>\n",
       "      <td>0.105469</td>\n",
       "      <td>84.691406</td>\n",
       "    </tr>\n",
       "    <tr>\n",
       "      <th>guaranteed</th>\n",
       "      <td>1.0</td>\n",
       "      <td>27.0</td>\n",
       "      <td>0.001245</td>\n",
       "      <td>0.105469</td>\n",
       "      <td>84.691406</td>\n",
       "    </tr>\n",
       "    <tr>\n",
       "      <th>mobile</th>\n",
       "      <td>2.0</td>\n",
       "      <td>50.0</td>\n",
       "      <td>0.002491</td>\n",
       "      <td>0.195312</td>\n",
       "      <td>78.417969</td>\n",
       "    </tr>\n",
       "    <tr>\n",
       "      <th>draw</th>\n",
       "      <td>1.0</td>\n",
       "      <td>24.0</td>\n",
       "      <td>0.001245</td>\n",
       "      <td>0.093750</td>\n",
       "      <td>75.281250</td>\n",
       "    </tr>\n",
       "    <tr>\n",
       "      <th>tone</th>\n",
       "      <td>1.0</td>\n",
       "      <td>24.0</td>\n",
       "      <td>0.001245</td>\n",
       "      <td>0.093750</td>\n",
       "      <td>75.281250</td>\n",
       "    </tr>\n",
       "    <tr>\n",
       "      <th>16</th>\n",
       "      <td>1.0</td>\n",
       "      <td>24.0</td>\n",
       "      <td>0.001245</td>\n",
       "      <td>0.093750</td>\n",
       "      <td>75.281250</td>\n",
       "    </tr>\n",
       "    <tr>\n",
       "      <th>uk</th>\n",
       "      <td>1.0</td>\n",
       "      <td>23.0</td>\n",
       "      <td>0.001245</td>\n",
       "      <td>0.089844</td>\n",
       "      <td>72.144531</td>\n",
       "    </tr>\n",
       "    <tr>\n",
       "      <th>cs</th>\n",
       "      <td>1.0</td>\n",
       "      <td>21.0</td>\n",
       "      <td>0.001245</td>\n",
       "      <td>0.082031</td>\n",
       "      <td>65.871094</td>\n",
       "    </tr>\n",
       "    <tr>\n",
       "      <th>won</th>\n",
       "      <td>2.0</td>\n",
       "      <td>41.0</td>\n",
       "      <td>0.002491</td>\n",
       "      <td>0.160156</td>\n",
       "      <td>64.302734</td>\n",
       "    </tr>\n",
       "    <tr>\n",
       "      <th>18</th>\n",
       "      <td>1.0</td>\n",
       "      <td>20.0</td>\n",
       "      <td>0.001245</td>\n",
       "      <td>0.078125</td>\n",
       "      <td>62.734375</td>\n",
       "    </tr>\n",
       "    <tr>\n",
       "      <th>customer</th>\n",
       "      <td>1.0</td>\n",
       "      <td>20.0</td>\n",
       "      <td>0.001245</td>\n",
       "      <td>0.078125</td>\n",
       "      <td>62.734375</td>\n",
       "    </tr>\n",
       "    <tr>\n",
       "      <th>awarded</th>\n",
       "      <td>1.0</td>\n",
       "      <td>20.0</td>\n",
       "      <td>0.001245</td>\n",
       "      <td>0.078125</td>\n",
       "      <td>62.734375</td>\n",
       "    </tr>\n",
       "  </tbody>\n",
       "</table>\n",
       "</div>"
      ],
      "text/plain": [
       "            ham  spam  ham_relative  spam_relative  spam_ratio\n",
       "token                                                         \n",
       "prize       1.0  53.0      0.001245       0.207031  166.246094\n",
       "claim       1.0  53.0      0.001245       0.207031  166.246094\n",
       "www         1.0  34.0      0.001245       0.132812  106.648438\n",
       "urgent      1.0  34.0      0.001245       0.132812  106.648438\n",
       "contact     1.0  33.0      0.001245       0.128906  103.511719\n",
       "150p        1.0  32.0      0.001245       0.125000  100.375000\n",
       "nokia       1.0  31.0      0.001245       0.121094   97.238281\n",
       "cash        1.0  30.0      0.001245       0.117188   94.101562\n",
       "win         1.0  27.0      0.001245       0.105469   84.691406\n",
       "guaranteed  1.0  27.0      0.001245       0.105469   84.691406\n",
       "mobile      2.0  50.0      0.002491       0.195312   78.417969\n",
       "draw        1.0  24.0      0.001245       0.093750   75.281250\n",
       "tone        1.0  24.0      0.001245       0.093750   75.281250\n",
       "16          1.0  24.0      0.001245       0.093750   75.281250\n",
       "uk          1.0  23.0      0.001245       0.089844   72.144531\n",
       "cs          1.0  21.0      0.001245       0.082031   65.871094\n",
       "won         2.0  41.0      0.002491       0.160156   64.302734\n",
       "18          1.0  20.0      0.001245       0.078125   62.734375\n",
       "customer    1.0  20.0      0.001245       0.078125   62.734375\n",
       "awarded     1.0  20.0      0.001245       0.078125   62.734375"
      ]
     },
     "execution_count": 97,
     "metadata": {},
     "output_type": "execute_result"
    }
   ],
   "source": [
    "tokens.sort_values('spam_ratio', ascending=False).head(20)"
   ]
  },
  {
   "cell_type": "markdown",
   "metadata": {},
   "source": [
    "Топ-20 слов, появляющихся в сообщениях с пометкой \"не спам\""
   ]
  },
  {
   "cell_type": "code",
   "execution_count": 98,
   "metadata": {},
   "outputs": [
    {
     "data": {
      "text/html": [
       "<div>\n",
       "<style>\n",
       "    .dataframe thead tr:only-child th {\n",
       "        text-align: right;\n",
       "    }\n",
       "\n",
       "    .dataframe thead th {\n",
       "        text-align: left;\n",
       "    }\n",
       "\n",
       "    .dataframe tbody tr th {\n",
       "        vertical-align: top;\n",
       "    }\n",
       "</style>\n",
       "<table border=\"1\" class=\"dataframe\">\n",
       "  <thead>\n",
       "    <tr style=\"text-align: right;\">\n",
       "      <th></th>\n",
       "      <th>ham</th>\n",
       "      <th>spam</th>\n",
       "      <th>ham_relative</th>\n",
       "      <th>spam_relative</th>\n",
       "      <th>spam_ratio</th>\n",
       "    </tr>\n",
       "    <tr>\n",
       "      <th>token</th>\n",
       "      <th></th>\n",
       "      <th></th>\n",
       "      <th></th>\n",
       "      <th></th>\n",
       "      <th></th>\n",
       "    </tr>\n",
       "  </thead>\n",
       "  <tbody>\n",
       "    <tr>\n",
       "      <th>lor</th>\n",
       "      <td>127.0</td>\n",
       "      <td>1.0</td>\n",
       "      <td>0.158157</td>\n",
       "      <td>0.003906</td>\n",
       "      <td>0.024699</td>\n",
       "    </tr>\n",
       "    <tr>\n",
       "      <th>wat</th>\n",
       "      <td>74.0</td>\n",
       "      <td>1.0</td>\n",
       "      <td>0.092154</td>\n",
       "      <td>0.003906</td>\n",
       "      <td>0.042388</td>\n",
       "    </tr>\n",
       "    <tr>\n",
       "      <th>da</th>\n",
       "      <td>52.0</td>\n",
       "      <td>1.0</td>\n",
       "      <td>0.064757</td>\n",
       "      <td>0.003906</td>\n",
       "      <td>0.060322</td>\n",
       "    </tr>\n",
       "    <tr>\n",
       "      <th>already</th>\n",
       "      <td>48.0</td>\n",
       "      <td>1.0</td>\n",
       "      <td>0.059776</td>\n",
       "      <td>0.003906</td>\n",
       "      <td>0.065348</td>\n",
       "    </tr>\n",
       "    <tr>\n",
       "      <th>dun</th>\n",
       "      <td>47.0</td>\n",
       "      <td>1.0</td>\n",
       "      <td>0.058531</td>\n",
       "      <td>0.003906</td>\n",
       "      <td>0.066739</td>\n",
       "    </tr>\n",
       "    <tr>\n",
       "      <th>but</th>\n",
       "      <td>92.0</td>\n",
       "      <td>2.0</td>\n",
       "      <td>0.114570</td>\n",
       "      <td>0.007812</td>\n",
       "      <td>0.068190</td>\n",
       "    </tr>\n",
       "    <tr>\n",
       "      <th>home</th>\n",
       "      <td>46.0</td>\n",
       "      <td>1.0</td>\n",
       "      <td>0.057285</td>\n",
       "      <td>0.003906</td>\n",
       "      <td>0.068190</td>\n",
       "    </tr>\n",
       "    <tr>\n",
       "      <th>thk</th>\n",
       "      <td>44.0</td>\n",
       "      <td>1.0</td>\n",
       "      <td>0.054795</td>\n",
       "      <td>0.003906</td>\n",
       "      <td>0.071289</td>\n",
       "    </tr>\n",
       "    <tr>\n",
       "      <th>come</th>\n",
       "      <td>43.0</td>\n",
       "      <td>1.0</td>\n",
       "      <td>0.053549</td>\n",
       "      <td>0.003906</td>\n",
       "      <td>0.072947</td>\n",
       "    </tr>\n",
       "    <tr>\n",
       "      <th>hey</th>\n",
       "      <td>41.0</td>\n",
       "      <td>1.0</td>\n",
       "      <td>0.051059</td>\n",
       "      <td>0.003906</td>\n",
       "      <td>0.076505</td>\n",
       "    </tr>\n",
       "    <tr>\n",
       "      <th>im</th>\n",
       "      <td>40.0</td>\n",
       "      <td>1.0</td>\n",
       "      <td>0.049813</td>\n",
       "      <td>0.003906</td>\n",
       "      <td>0.078418</td>\n",
       "    </tr>\n",
       "    <tr>\n",
       "      <th>cos</th>\n",
       "      <td>39.0</td>\n",
       "      <td>1.0</td>\n",
       "      <td>0.048568</td>\n",
       "      <td>0.003906</td>\n",
       "      <td>0.080429</td>\n",
       "    </tr>\n",
       "    <tr>\n",
       "      <th>my</th>\n",
       "      <td>114.0</td>\n",
       "      <td>3.0</td>\n",
       "      <td>0.141968</td>\n",
       "      <td>0.011719</td>\n",
       "      <td>0.082545</td>\n",
       "    </tr>\n",
       "    <tr>\n",
       "      <th>yup</th>\n",
       "      <td>36.0</td>\n",
       "      <td>1.0</td>\n",
       "      <td>0.044832</td>\n",
       "      <td>0.003906</td>\n",
       "      <td>0.087131</td>\n",
       "    </tr>\n",
       "    <tr>\n",
       "      <th>got</th>\n",
       "      <td>72.0</td>\n",
       "      <td>2.0</td>\n",
       "      <td>0.089664</td>\n",
       "      <td>0.007812</td>\n",
       "      <td>0.087131</td>\n",
       "    </tr>\n",
       "    <tr>\n",
       "      <th>lar</th>\n",
       "      <td>34.0</td>\n",
       "      <td>1.0</td>\n",
       "      <td>0.042341</td>\n",
       "      <td>0.003906</td>\n",
       "      <td>0.092256</td>\n",
       "    </tr>\n",
       "    <tr>\n",
       "      <th>ok</th>\n",
       "      <td>102.0</td>\n",
       "      <td>3.0</td>\n",
       "      <td>0.127024</td>\n",
       "      <td>0.011719</td>\n",
       "      <td>0.092256</td>\n",
       "    </tr>\n",
       "    <tr>\n",
       "      <th>he</th>\n",
       "      <td>34.0</td>\n",
       "      <td>1.0</td>\n",
       "      <td>0.042341</td>\n",
       "      <td>0.003906</td>\n",
       "      <td>0.092256</td>\n",
       "    </tr>\n",
       "    <tr>\n",
       "      <th>later</th>\n",
       "      <td>31.0</td>\n",
       "      <td>1.0</td>\n",
       "      <td>0.038605</td>\n",
       "      <td>0.003906</td>\n",
       "      <td>0.101184</td>\n",
       "    </tr>\n",
       "    <tr>\n",
       "      <th>then</th>\n",
       "      <td>91.0</td>\n",
       "      <td>3.0</td>\n",
       "      <td>0.113325</td>\n",
       "      <td>0.011719</td>\n",
       "      <td>0.103408</td>\n",
       "    </tr>\n",
       "  </tbody>\n",
       "</table>\n",
       "</div>"
      ],
      "text/plain": [
       "           ham  spam  ham_relative  spam_relative  spam_ratio\n",
       "token                                                        \n",
       "lor      127.0   1.0      0.158157       0.003906    0.024699\n",
       "wat       74.0   1.0      0.092154       0.003906    0.042388\n",
       "da        52.0   1.0      0.064757       0.003906    0.060322\n",
       "already   48.0   1.0      0.059776       0.003906    0.065348\n",
       "dun       47.0   1.0      0.058531       0.003906    0.066739\n",
       "but       92.0   2.0      0.114570       0.007812    0.068190\n",
       "home      46.0   1.0      0.057285       0.003906    0.068190\n",
       "thk       44.0   1.0      0.054795       0.003906    0.071289\n",
       "come      43.0   1.0      0.053549       0.003906    0.072947\n",
       "hey       41.0   1.0      0.051059       0.003906    0.076505\n",
       "im        40.0   1.0      0.049813       0.003906    0.078418\n",
       "cos       39.0   1.0      0.048568       0.003906    0.080429\n",
       "my       114.0   3.0      0.141968       0.011719    0.082545\n",
       "yup       36.0   1.0      0.044832       0.003906    0.087131\n",
       "got       72.0   2.0      0.089664       0.007812    0.087131\n",
       "lar       34.0   1.0      0.042341       0.003906    0.092256\n",
       "ok       102.0   3.0      0.127024       0.011719    0.092256\n",
       "he        34.0   1.0      0.042341       0.003906    0.092256\n",
       "later     31.0   1.0      0.038605       0.003906    0.101184\n",
       "then      91.0   3.0      0.113325       0.011719    0.103408"
      ]
     },
     "execution_count": 98,
     "metadata": {},
     "output_type": "execute_result"
    }
   ],
   "source": [
    "tokens.sort_values('spam_ratio', ascending=True).head(20)"
   ]
  },
  {
   "cell_type": "code",
   "execution_count": null,
   "metadata": {
    "collapsed": true
   },
   "outputs": [],
   "source": []
  },
  {
   "cell_type": "markdown",
   "metadata": {
    "collapsed": true
   },
   "source": [
    "Потюнингуем параметры алгоритмов, обработчика текста, запустим кросс-валидацию и снова сравним модели"
   ]
  },
  {
   "cell_type": "markdown",
   "metadata": {
    "collapsed": true
   },
   "source": [
    "Для обработчика CountVectorizer добавлен стандартный список стоп-слов, добавлены N-грамы длины 2 и 3. Также отсекаются слова, которые попадаются более, чем в половине документов "
   ]
  },
  {
   "cell_type": "code",
   "execution_count": 99,
   "metadata": {
    "collapsed": true
   },
   "outputs": [],
   "source": [
    "tuned_vect = CountVectorizer(stop_words='english', ngram_range=(1, 3), max_df=0.5)"
   ]
  },
  {
   "cell_type": "code",
   "execution_count": 100,
   "metadata": {
    "collapsed": true
   },
   "outputs": [],
   "source": [
    "df = into_dataframe('english_big.txt')\n",
    "X = df.message\n",
    "y = df.target\n",
    "X_train, X_test, y_train, y_test = train_test_split(X, y, test_size=.2, random_state=42)"
   ]
  },
  {
   "cell_type": "code",
   "execution_count": 101,
   "metadata": {},
   "outputs": [
    {
     "data": {
      "text/plain": [
       "<1059x16937 sparse matrix of type '<class 'numpy.int64'>'\n",
       "\twith 26520 stored elements in Compressed Sparse Row format>"
      ]
     },
     "execution_count": 101,
     "metadata": {},
     "output_type": "execute_result"
    }
   ],
   "source": [
    "X_train_sparse = tuned_vect.fit_transform(X_train)\n",
    "X_train_sparse"
   ]
  },
  {
   "cell_type": "code",
   "execution_count": 102,
   "metadata": {
    "collapsed": true
   },
   "outputs": [],
   "source": [
    "X_test_sparse = tuned_vect.transform(X_test)"
   ]
  },
  {
   "cell_type": "code",
   "execution_count": 103,
   "metadata": {},
   "outputs": [
    {
     "name": "stdout",
     "output_type": "stream",
     "text": [
      "             precision    recall  f1-score   support\n",
      "\n",
      "          0       0.99      0.99      0.99       199\n",
      "          1       0.98      0.98      0.98        66\n",
      "\n",
      "avg / total       0.99      0.99      0.99       265\n",
      "\n"
     ]
    }
   ],
   "source": [
    "multi = MultinomialNB(alpha=.1)\n",
    "multi.fit(X_train_sparse, y_train)\n",
    "pred = multi.predict(X_test_sparse)\n",
    "print(classification_report(pred, y_test))"
   ]
  },
  {
   "cell_type": "code",
   "execution_count": 104,
   "metadata": {},
   "outputs": [
    {
     "name": "stdout",
     "output_type": "stream",
     "text": [
      "             precision    recall  f1-score   support\n",
      "\n",
      "          0       0.90      0.99      0.94       180\n",
      "          1       0.98      0.76      0.86        85\n",
      "\n",
      "avg / total       0.93      0.92      0.92       265\n",
      "\n"
     ]
    }
   ],
   "source": [
    "gauss = GaussianNB()\n",
    "gauss.fit(X_train_sparse.toarray(), y_train)\n",
    "pred_gauss = gauss.predict(X_test_sparse.toarray())\n",
    "print(classification_report(pred_gauss, y_test))"
   ]
  },
  {
   "cell_type": "code",
   "execution_count": 105,
   "metadata": {},
   "outputs": [
    {
     "name": "stdout",
     "output_type": "stream",
     "text": [
      "             precision    recall  f1-score   support\n",
      "\n",
      "          0       1.00      0.97      0.98       206\n",
      "          1       0.89      1.00      0.94        59\n",
      "\n",
      "avg / total       0.98      0.97      0.97       265\n",
      "\n"
     ]
    }
   ],
   "source": [
    "bernoulli = BernoulliNB(.1)\n",
    "bernoulli.fit(X_train_sparse.toarray(), y_train)\n",
    "pred_bernoulli = bernoulli.predict(X_test_sparse.toarray())\n",
    "print(classification_report(pred_bernoulli, y_test))"
   ]
  },
  {
   "cell_type": "code",
   "execution_count": null,
   "metadata": {
    "collapsed": true
   },
   "outputs": [],
   "source": []
  },
  {
   "cell_type": "markdown",
   "metadata": {},
   "source": [
    "Запустим кросс-валидационную сетку и оценим получившиеся результаты"
   ]
  },
  {
   "cell_type": "code",
   "execution_count": 106,
   "metadata": {
    "collapsed": true
   },
   "outputs": [],
   "source": [
    "from sklearn.model_selection import GridSearchCV\n",
    "from sklearn.pipeline import Pipeline"
   ]
  },
  {
   "cell_type": "code",
   "execution_count": 107,
   "metadata": {},
   "outputs": [
    {
     "data": {
      "text/plain": [
       "dict_keys(['class_prior', 'binarize', 'fit_prior', 'alpha'])"
      ]
     },
     "execution_count": 107,
     "metadata": {},
     "output_type": "execute_result"
    }
   ],
   "source": [
    "BernoulliNB().get_params().keys()"
   ]
  },
  {
   "cell_type": "code",
   "execution_count": 108,
   "metadata": {
    "collapsed": true
   },
   "outputs": [],
   "source": [
    "params = {'bernoulli__alpha': list(i / 10 for i in range(1, 11))}\n",
    "pipe = Pipeline([('bernoulli', BernoulliNB())])\n",
    "bernoulli_grid = GridSearchCV(pipe, params,\n",
    "                        cv=5, n_jobs=-1,\n",
    "                        verbose=True)"
   ]
  },
  {
   "cell_type": "code",
   "execution_count": 109,
   "metadata": {},
   "outputs": [
    {
     "name": "stdout",
     "output_type": "stream",
     "text": [
      "Fitting 5 folds for each of 10 candidates, totalling 50 fits\n"
     ]
    },
    {
     "name": "stderr",
     "output_type": "stream",
     "text": [
      "[Parallel(n_jobs=-1)]: Done  46 tasks      | elapsed:  1.5min\n",
      "[Parallel(n_jobs=-1)]: Done  50 out of  50 | elapsed:  1.6min finished\n"
     ]
    },
    {
     "data": {
      "text/plain": [
       "GridSearchCV(cv=5, error_score='raise',\n",
       "       estimator=Pipeline(steps=[('bernoulli', BernoulliNB(alpha=1.0, binarize=0.0, class_prior=None, fit_prior=True))]),\n",
       "       fit_params={}, iid=True, n_jobs=-1,\n",
       "       param_grid={'bernoulli__alpha': [0.1, 0.2, 0.3, 0.4, 0.5, 0.6, 0.7, 0.8, 0.9, 1.0]},\n",
       "       pre_dispatch='2*n_jobs', refit=True, return_train_score=True,\n",
       "       scoring=None, verbose=True)"
      ]
     },
     "execution_count": 109,
     "metadata": {},
     "output_type": "execute_result"
    }
   ],
   "source": [
    "bernoulli_grid.fit(X_train_sparse.toarray(), y_train)"
   ]
  },
  {
   "cell_type": "code",
   "execution_count": 110,
   "metadata": {},
   "outputs": [
    {
     "data": {
      "text/plain": [
       "({'bernoulli__alpha': 0.1}, 0.97639282341831912)"
      ]
     },
     "execution_count": 110,
     "metadata": {},
     "output_type": "execute_result"
    }
   ],
   "source": [
    "bernoulli_grid.best_params_, bernoulli_grid.best_score_"
   ]
  },
  {
   "cell_type": "code",
   "execution_count": null,
   "metadata": {
    "collapsed": true
   },
   "outputs": [],
   "source": []
  },
  {
   "cell_type": "code",
   "execution_count": 111,
   "metadata": {},
   "outputs": [
    {
     "data": {
      "application/vnd.plotly.v1+json": {
       "data": [
        {
         "showlegend": false,
         "type": "scatter",
         "x": [
          0.1,
          0.2,
          0.3,
          0.4,
          0.5,
          0.6,
          0.7,
          0.8,
          0.9,
          1
         ],
         "y": [
          0.9763928234183191,
          0.9716713881019831,
          0.9707271010387157,
          0.9641170915958451,
          0.9603399433427762,
          0.9442870632672332,
          0.927289896128423,
          0.9131255901794145,
          0.890462700661001,
          0.8753541076487252
         ]
        }
       ],
       "layout": {
        "title": "Bernoulli classifier prediction on training set with different alpha parameter values",
        "xaxis": {
         "dtick": 0.1,
         "title": "Aplha parameter value"
        },
        "yaxis": {
         "title": "Accuracy score"
        }
       }
      },
      "text/html": [
       "<div id=\"ab62a5af-af8f-4078-8db1-33638c4fe116\" style=\"height: 525px; width: 100%;\" class=\"plotly-graph-div\"></div><script type=\"text/javascript\">require([\"plotly\"], function(Plotly) { window.PLOTLYENV=window.PLOTLYENV || {};window.PLOTLYENV.BASE_URL=\"https://plot.ly\";Plotly.newPlot(\"ab62a5af-af8f-4078-8db1-33638c4fe116\", [{\"y\": [0.9763928234183191, 0.9716713881019831, 0.9707271010387157, 0.9641170915958451, 0.9603399433427762, 0.9442870632672332, 0.927289896128423, 0.9131255901794145, 0.890462700661001, 0.8753541076487252], \"showlegend\": false, \"type\": \"scatter\", \"x\": [0.1, 0.2, 0.3, 0.4, 0.5, 0.6, 0.7, 0.8, 0.9, 1.0]}], {\"yaxis\": {\"title\": \"Accuracy score\"}, \"xaxis\": {\"dtick\": 0.1, \"title\": \"Aplha parameter value\"}, \"title\": \"Bernoulli classifier prediction on training set with different alpha parameter values\"}, {\"linkText\": \"Export to plot.ly\", \"showLink\": true})});</script>"
      ],
      "text/vnd.plotly.v1+html": [
       "<div id=\"ab62a5af-af8f-4078-8db1-33638c4fe116\" style=\"height: 525px; width: 100%;\" class=\"plotly-graph-div\"></div><script type=\"text/javascript\">require([\"plotly\"], function(Plotly) { window.PLOTLYENV=window.PLOTLYENV || {};window.PLOTLYENV.BASE_URL=\"https://plot.ly\";Plotly.newPlot(\"ab62a5af-af8f-4078-8db1-33638c4fe116\", [{\"y\": [0.9763928234183191, 0.9716713881019831, 0.9707271010387157, 0.9641170915958451, 0.9603399433427762, 0.9442870632672332, 0.927289896128423, 0.9131255901794145, 0.890462700661001, 0.8753541076487252], \"showlegend\": false, \"type\": \"scatter\", \"x\": [0.1, 0.2, 0.3, 0.4, 0.5, 0.6, 0.7, 0.8, 0.9, 1.0]}], {\"yaxis\": {\"title\": \"Accuracy score\"}, \"xaxis\": {\"dtick\": 0.1, \"title\": \"Aplha parameter value\"}, \"title\": \"Bernoulli classifier prediction on training set with different alpha parameter values\"}, {\"linkText\": \"Export to plot.ly\", \"showLink\": true})});</script>"
      ]
     },
     "metadata": {},
     "output_type": "display_data"
    }
   ],
   "source": [
    "results = bernoulli_grid.cv_results_['mean_test_score']\n",
    "legend = list(i / 10 for i in range(1, 11))\n",
    "\n",
    "trace1 = go.Scatter(\n",
    "        x=legend,\n",
    "        y=results,\n",
    "        showlegend=False)\n",
    "\n",
    "\n",
    "\n",
    "data = go.Data([trace1])\n",
    "\n",
    "layout=go.Layout(\n",
    "        yaxis=go.YAxis(title='Accuracy score'),\n",
    "        xaxis=go.XAxis(title='Aplha parameter value', dtick=0.1,),\n",
    "        title='Bernoulli classifier prediction on training set with different alpha parameter values')\n",
    "\n",
    "fig = go.Figure(data=data, layout=layout)\n",
    "iplot(fig)"
   ]
  },
  {
   "cell_type": "code",
   "execution_count": 112,
   "metadata": {
    "collapsed": true
   },
   "outputs": [],
   "source": [
    "pred_bernoulli_grid = bernoulli_grid.predict(X_test_sparse.toarray())"
   ]
  },
  {
   "cell_type": "code",
   "execution_count": 113,
   "metadata": {},
   "outputs": [
    {
     "name": "stdout",
     "output_type": "stream",
     "text": [
      "             precision    recall  f1-score   support\n",
      "\n",
      "          0       1.00      0.97      0.98       206\n",
      "          1       0.89      1.00      0.94        59\n",
      "\n",
      "avg / total       0.98      0.97      0.97       265\n",
      "\n"
     ]
    }
   ],
   "source": [
    "print(classification_report(pred_bernoulli_grid, y_test))"
   ]
  },
  {
   "cell_type": "code",
   "execution_count": null,
   "metadata": {
    "collapsed": true
   },
   "outputs": [],
   "source": []
  },
  {
   "cell_type": "markdown",
   "metadata": {},
   "source": [
    "Оттюнингованная сетка дала точность предсказания в 97%. Точность прогноза на тренировочной выборке также составляет 97%. "
   ]
  },
  {
   "cell_type": "markdown",
   "metadata": {},
   "source": [
    "Попробуем тот же метод на алгоритме MultinomialNB"
   ]
  },
  {
   "cell_type": "code",
   "execution_count": 114,
   "metadata": {
    "collapsed": true
   },
   "outputs": [],
   "source": [
    "params = {'multi__alpha': list(i / 10 for i in range(1, 11))}\n",
    "pipe = Pipeline([('multi', MultinomialNB())])\n",
    "multi_grid = GridSearchCV(pipe, params,\n",
    "                        cv=5, n_jobs=-1,\n",
    "                        verbose=True)"
   ]
  },
  {
   "cell_type": "code",
   "execution_count": 115,
   "metadata": {},
   "outputs": [
    {
     "name": "stdout",
     "output_type": "stream",
     "text": [
      "Fitting 5 folds for each of 10 candidates, totalling 50 fits\n"
     ]
    },
    {
     "name": "stderr",
     "output_type": "stream",
     "text": [
      "[Parallel(n_jobs=-1)]: Done  46 tasks      | elapsed:  1.1min\n",
      "[Parallel(n_jobs=-1)]: Done  50 out of  50 | elapsed:  1.2min finished\n"
     ]
    },
    {
     "data": {
      "text/plain": [
       "GridSearchCV(cv=5, error_score='raise',\n",
       "       estimator=Pipeline(steps=[('multi', MultinomialNB(alpha=1.0, class_prior=None, fit_prior=True))]),\n",
       "       fit_params={}, iid=True, n_jobs=-1,\n",
       "       param_grid={'multi__alpha': [0.1, 0.2, 0.3, 0.4, 0.5, 0.6, 0.7, 0.8, 0.9, 1.0]},\n",
       "       pre_dispatch='2*n_jobs', refit=True, return_train_score=True,\n",
       "       scoring=None, verbose=True)"
      ]
     },
     "execution_count": 115,
     "metadata": {},
     "output_type": "execute_result"
    }
   ],
   "source": [
    "multi_grid.fit(X_train_sparse.toarray(), y_train)"
   ]
  },
  {
   "cell_type": "code",
   "execution_count": 116,
   "metadata": {},
   "outputs": [
    {
     "data": {
      "text/plain": [
       "({'multi__alpha': 0.8}, 0.99055712936732765)"
      ]
     },
     "execution_count": 116,
     "metadata": {},
     "output_type": "execute_result"
    }
   ],
   "source": [
    "multi_grid.best_params_, multi_grid.best_score_"
   ]
  },
  {
   "cell_type": "code",
   "execution_count": 117,
   "metadata": {},
   "outputs": [
    {
     "data": {
      "application/vnd.plotly.v1+json": {
       "data": [
        {
         "name": "BernoulliNB",
         "showlegend": true,
         "type": "scatter",
         "x": [
          0.1,
          0.2,
          0.3,
          0.4,
          0.5,
          0.6,
          0.7,
          0.8,
          0.9,
          1
         ],
         "y": [
          0.9763928234183191,
          0.9716713881019831,
          0.9707271010387157,
          0.9641170915958451,
          0.9603399433427762,
          0.9442870632672332,
          0.927289896128423,
          0.9131255901794145,
          0.890462700661001,
          0.8753541076487252
         ]
        },
        {
         "name": "MultinomialNB",
         "showlegend": true,
         "type": "scatter",
         "x": [
          0.1,
          0.2,
          0.3,
          0.4,
          0.5,
          0.6,
          0.7,
          0.8,
          0.9,
          1
         ],
         "y": [
          0.9820585457979226,
          0.9848914069877243,
          0.9858356940509915,
          0.987724268177526,
          0.987724268177526,
          0.987724268177526,
          0.987724268177526,
          0.9905571293673276,
          0.9896128423040604,
          0.9896128423040604
         ]
        }
       ],
       "layout": {
        "title": "BernoulliNB vs MultinomialNB classifier prediction on training set with different alpha parameter values",
        "xaxis": {
         "dtick": 0.1,
         "title": "Aplha parameter value"
        },
        "yaxis": {
         "title": "Accuracy score"
        }
       }
      },
      "text/html": [
       "<div id=\"0b0ec7f2-e017-46d3-8087-faf9381cd783\" style=\"height: 525px; width: 100%;\" class=\"plotly-graph-div\"></div><script type=\"text/javascript\">require([\"plotly\"], function(Plotly) { window.PLOTLYENV=window.PLOTLYENV || {};window.PLOTLYENV.BASE_URL=\"https://plot.ly\";Plotly.newPlot(\"0b0ec7f2-e017-46d3-8087-faf9381cd783\", [{\"y\": [0.9763928234183191, 0.9716713881019831, 0.9707271010387157, 0.9641170915958451, 0.9603399433427762, 0.9442870632672332, 0.927289896128423, 0.9131255901794145, 0.890462700661001, 0.8753541076487252], \"name\": \"BernoulliNB\", \"showlegend\": true, \"type\": \"scatter\", \"x\": [0.1, 0.2, 0.3, 0.4, 0.5, 0.6, 0.7, 0.8, 0.9, 1.0]}, {\"y\": [0.9820585457979226, 0.9848914069877243, 0.9858356940509915, 0.987724268177526, 0.987724268177526, 0.987724268177526, 0.987724268177526, 0.9905571293673276, 0.9896128423040604, 0.9896128423040604], \"name\": \"MultinomialNB\", \"showlegend\": true, \"type\": \"scatter\", \"x\": [0.1, 0.2, 0.3, 0.4, 0.5, 0.6, 0.7, 0.8, 0.9, 1.0]}], {\"yaxis\": {\"title\": \"Accuracy score\"}, \"xaxis\": {\"dtick\": 0.1, \"title\": \"Aplha parameter value\"}, \"title\": \"BernoulliNB vs MultinomialNB classifier prediction on training set with different alpha parameter values\"}, {\"linkText\": \"Export to plot.ly\", \"showLink\": true})});</script>"
      ],
      "text/vnd.plotly.v1+html": [
       "<div id=\"0b0ec7f2-e017-46d3-8087-faf9381cd783\" style=\"height: 525px; width: 100%;\" class=\"plotly-graph-div\"></div><script type=\"text/javascript\">require([\"plotly\"], function(Plotly) { window.PLOTLYENV=window.PLOTLYENV || {};window.PLOTLYENV.BASE_URL=\"https://plot.ly\";Plotly.newPlot(\"0b0ec7f2-e017-46d3-8087-faf9381cd783\", [{\"y\": [0.9763928234183191, 0.9716713881019831, 0.9707271010387157, 0.9641170915958451, 0.9603399433427762, 0.9442870632672332, 0.927289896128423, 0.9131255901794145, 0.890462700661001, 0.8753541076487252], \"name\": \"BernoulliNB\", \"showlegend\": true, \"type\": \"scatter\", \"x\": [0.1, 0.2, 0.3, 0.4, 0.5, 0.6, 0.7, 0.8, 0.9, 1.0]}, {\"y\": [0.9820585457979226, 0.9848914069877243, 0.9858356940509915, 0.987724268177526, 0.987724268177526, 0.987724268177526, 0.987724268177526, 0.9905571293673276, 0.9896128423040604, 0.9896128423040604], \"name\": \"MultinomialNB\", \"showlegend\": true, \"type\": \"scatter\", \"x\": [0.1, 0.2, 0.3, 0.4, 0.5, 0.6, 0.7, 0.8, 0.9, 1.0]}], {\"yaxis\": {\"title\": \"Accuracy score\"}, \"xaxis\": {\"dtick\": 0.1, \"title\": \"Aplha parameter value\"}, \"title\": \"BernoulliNB vs MultinomialNB classifier prediction on training set with different alpha parameter values\"}, {\"linkText\": \"Export to plot.ly\", \"showLink\": true})});</script>"
      ]
     },
     "metadata": {},
     "output_type": "display_data"
    }
   ],
   "source": [
    "multi_res = multi_grid.cv_results_['mean_test_score']\n",
    "bernoulli_res = bernoulli_grid.cv_results_['mean_test_score']\n",
    "legend = list(i / 10 for i in range(1, 11))\n",
    "\n",
    "trace1 = go.Scatter(\n",
    "        x=legend,\n",
    "        y=bernoulli_res,\n",
    "        showlegend=True, \n",
    "        name='BernoulliNB')\n",
    "trace2 = go.Scatter(\n",
    "        x=legend, \n",
    "        y=multi_res, \n",
    "        showlegend=True, \n",
    "        name='MultinomialNB')\n",
    "\n",
    "\n",
    "data = go.Data([trace1, trace2])\n",
    "\n",
    "layout=go.Layout(\n",
    "        yaxis=go.YAxis(title='Accuracy score'),\n",
    "        xaxis=go.XAxis(title='Aplha parameter value', dtick=0.1,),\n",
    "        title='BernoulliNB vs MultinomialNB classifier prediction on training set with different alpha parameter values')\n",
    "\n",
    "fig = go.Figure(data=data, layout=layout)\n",
    "iplot(fig)"
   ]
  },
  {
   "cell_type": "markdown",
   "metadata": {},
   "source": [
    "Алгоритм MultinomialNB показывает более высокие предсказательные результаты на тренировочной выборке. Предсказания, сделанные на тестовой выборке у него также точнее (99% vs 97%)"
   ]
  },
  {
   "cell_type": "code",
   "execution_count": 118,
   "metadata": {},
   "outputs": [
    {
     "name": "stdout",
     "output_type": "stream",
     "text": [
      "             precision    recall  f1-score   support\n",
      "\n",
      "          0       0.99      0.99      0.99       199\n",
      "          1       0.98      0.98      0.98        66\n",
      "\n",
      "avg / total       0.99      0.99      0.99       265\n",
      "\n"
     ]
    }
   ],
   "source": [
    "pred_multi_grid = multi_grid.predict(X_test_sparse.toarray())\n",
    "print(classification_report(pred_multi_grid, y_test))"
   ]
  },
  {
   "cell_type": "code",
   "execution_count": null,
   "metadata": {
    "collapsed": true
   },
   "outputs": [],
   "source": []
  },
  {
   "cell_type": "code",
   "execution_count": 119,
   "metadata": {},
   "outputs": [
    {
     "name": "stdout",
     "output_type": "stream",
     "text": [
      "             precision    recall  f1-score   support\n",
      "\n",
      "          0       0.90      0.99      0.94       180\n",
      "          1       0.98      0.76      0.86        85\n",
      "\n",
      "avg / total       0.93      0.92      0.92       265\n",
      "\n"
     ]
    }
   ],
   "source": [
    "gauss = GaussianNB()\n",
    "gauss.fit(X_train_sparse.toarray(), y_train)\n",
    "pred_gauss = gauss.predict(X_test_sparse.toarray())\n",
    "print(classification_report(pred_gauss, y_test))"
   ]
  },
  {
   "cell_type": "code",
   "execution_count": null,
   "metadata": {
    "collapsed": true
   },
   "outputs": [],
   "source": []
  },
  {
   "cell_type": "markdown",
   "metadata": {},
   "source": [
    "\n",
    "Алгоритм GaussianNB показывает точность 92% и проигрывает двум предыдущим\n"
   ]
  },
  {
   "cell_type": "code",
   "execution_count": null,
   "metadata": {
    "collapsed": true
   },
   "outputs": [],
   "source": []
  },
  {
   "cell_type": "code",
   "execution_count": null,
   "metadata": {
    "collapsed": true
   },
   "outputs": [],
   "source": []
  },
  {
   "cell_type": "code",
   "execution_count": null,
   "metadata": {
    "collapsed": true
   },
   "outputs": [],
   "source": []
  },
  {
   "cell_type": "code",
   "execution_count": 120,
   "metadata": {},
   "outputs": [
    {
     "data": {
      "application/vnd.plotly.v1+json": {
       "data": [
        {
         "showlegend": false,
         "type": "scatter",
         "x": [
          "MultinomialNB",
          "BernoulliNB",
          "GaussianNB"
         ],
         "y": [
          0.99,
          0.97,
          0.92
         ]
        }
       ],
       "layout": {
        "title": "Prediction quality with cross-validation and model tuning ",
        "yaxis": {
         "title": "Accuracy score"
        }
       }
      },
      "text/html": [
       "<div id=\"c2024213-0b71-4eb8-8aca-d6dab2b41c8f\" style=\"height: 525px; width: 100%;\" class=\"plotly-graph-div\"></div><script type=\"text/javascript\">require([\"plotly\"], function(Plotly) { window.PLOTLYENV=window.PLOTLYENV || {};window.PLOTLYENV.BASE_URL=\"https://plot.ly\";Plotly.newPlot(\"c2024213-0b71-4eb8-8aca-d6dab2b41c8f\", [{\"y\": [0.99, 0.97, 0.92], \"showlegend\": false, \"type\": \"scatter\", \"x\": [\"MultinomialNB\", \"BernoulliNB\", \"GaussianNB\"]}], {\"yaxis\": {\"title\": \"Accuracy score\"}, \"title\": \"Prediction quality with cross-validation and model tuning \"}, {\"linkText\": \"Export to plot.ly\", \"showLink\": true})});</script>"
      ],
      "text/vnd.plotly.v1+html": [
       "<div id=\"c2024213-0b71-4eb8-8aca-d6dab2b41c8f\" style=\"height: 525px; width: 100%;\" class=\"plotly-graph-div\"></div><script type=\"text/javascript\">require([\"plotly\"], function(Plotly) { window.PLOTLYENV=window.PLOTLYENV || {};window.PLOTLYENV.BASE_URL=\"https://plot.ly\";Plotly.newPlot(\"c2024213-0b71-4eb8-8aca-d6dab2b41c8f\", [{\"y\": [0.99, 0.97, 0.92], \"showlegend\": false, \"type\": \"scatter\", \"x\": [\"MultinomialNB\", \"BernoulliNB\", \"GaussianNB\"]}], {\"yaxis\": {\"title\": \"Accuracy score\"}, \"title\": \"Prediction quality with cross-validation and model tuning \"}, {\"linkText\": \"Export to plot.ly\", \"showLink\": true})});</script>"
      ]
     },
     "metadata": {},
     "output_type": "display_data"
    }
   ],
   "source": [
    "accuracies_with_cv = [.99, 0.97, 0.92]\n",
    "legend = ['MultinomialNB','BernoulliNB', 'GaussianNB']\n",
    "\n",
    "trace1 = go.Scatter(\n",
    "        x=legend,\n",
    "        y=accuracies_with_cv,\n",
    "        showlegend=False)\n",
    "\n",
    "\n",
    "\n",
    "data = go.Data([trace1])\n",
    "\n",
    "layout=go.Layout(\n",
    "        yaxis=go.YAxis(title='Accuracy score'),\n",
    "        title='Prediction quality with cross-validation and model tuning ')\n",
    "\n",
    "fig = go.Figure(data=data, layout=layout)\n",
    "iplot(fig)"
   ]
  },
  {
   "cell_type": "code",
   "execution_count": null,
   "metadata": {
    "collapsed": true
   },
   "outputs": [],
   "source": []
  },
  {
   "cell_type": "markdown",
   "metadata": {},
   "source": [
    "Поскольку в этой части работы был по другому настроен обработчик текста, имеет смысл снова проверить какие слова алгоритм отмечал как наиболее часто маркирующие спам."
   ]
  },
  {
   "cell_type": "code",
   "execution_count": 121,
   "metadata": {},
   "outputs": [
    {
     "data": {
      "text/plain": [
       "array([[ 0.,  0.,  0., ...,  0.,  0.,  0.],\n",
       "       [ 5.,  1.,  1., ...,  2.,  1.,  1.]])"
      ]
     },
     "execution_count": 121,
     "metadata": {},
     "output_type": "execute_result"
    }
   ],
   "source": [
    "X_train_tokens = tuned_vect.get_feature_names()\n",
    "multi.feature_count_"
   ]
  },
  {
   "cell_type": "code",
   "execution_count": 122,
   "metadata": {
    "collapsed": true
   },
   "outputs": [],
   "source": [
    "ham_token_count = multi.feature_count_[0, :]\n",
    "spam_token_count = multi.feature_count_[1, :]"
   ]
  },
  {
   "cell_type": "code",
   "execution_count": 123,
   "metadata": {},
   "outputs": [
    {
     "data": {
      "text/html": [
       "<div>\n",
       "<style>\n",
       "    .dataframe thead tr:only-child th {\n",
       "        text-align: right;\n",
       "    }\n",
       "\n",
       "    .dataframe thead th {\n",
       "        text-align: left;\n",
       "    }\n",
       "\n",
       "    .dataframe tbody tr th {\n",
       "        vertical-align: top;\n",
       "    }\n",
       "</style>\n",
       "<table border=\"1\" class=\"dataframe\">\n",
       "  <thead>\n",
       "    <tr style=\"text-align: right;\">\n",
       "      <th></th>\n",
       "      <th>ham</th>\n",
       "      <th>spam</th>\n",
       "    </tr>\n",
       "    <tr>\n",
       "      <th>token</th>\n",
       "      <th></th>\n",
       "      <th></th>\n",
       "    </tr>\n",
       "  </thead>\n",
       "  <tbody>\n",
       "    <tr>\n",
       "      <th>00</th>\n",
       "      <td>1.0</td>\n",
       "      <td>6.0</td>\n",
       "    </tr>\n",
       "    <tr>\n",
       "      <th>00 easter</th>\n",
       "      <td>1.0</td>\n",
       "      <td>2.0</td>\n",
       "    </tr>\n",
       "    <tr>\n",
       "      <th>00 easter prize</th>\n",
       "      <td>1.0</td>\n",
       "      <td>2.0</td>\n",
       "    </tr>\n",
       "    <tr>\n",
       "      <th>00 sub</th>\n",
       "      <td>1.0</td>\n",
       "      <td>3.0</td>\n",
       "    </tr>\n",
       "    <tr>\n",
       "      <th>00 sub 16</th>\n",
       "      <td>1.0</td>\n",
       "      <td>3.0</td>\n",
       "    </tr>\n",
       "  </tbody>\n",
       "</table>\n",
       "</div>"
      ],
      "text/plain": [
       "                 ham  spam\n",
       "token                     \n",
       "00               1.0   6.0\n",
       "00 easter        1.0   2.0\n",
       "00 easter prize  1.0   2.0\n",
       "00 sub           1.0   3.0\n",
       "00 sub 16        1.0   3.0"
      ]
     },
     "execution_count": 123,
     "metadata": {},
     "output_type": "execute_result"
    }
   ],
   "source": [
    "tokens = pd.DataFrame({'token':X_train_tokens, 'ham':ham_token_count+1, 'spam':spam_token_count+1}).set_index('token')\n",
    "tokens.head()"
   ]
  },
  {
   "cell_type": "code",
   "execution_count": 124,
   "metadata": {},
   "outputs": [
    {
     "data": {
      "text/html": [
       "<div>\n",
       "<style>\n",
       "    .dataframe thead tr:only-child th {\n",
       "        text-align: right;\n",
       "    }\n",
       "\n",
       "    .dataframe thead th {\n",
       "        text-align: left;\n",
       "    }\n",
       "\n",
       "    .dataframe tbody tr th {\n",
       "        vertical-align: top;\n",
       "    }\n",
       "</style>\n",
       "<table border=\"1\" class=\"dataframe\">\n",
       "  <thead>\n",
       "    <tr style=\"text-align: right;\">\n",
       "      <th></th>\n",
       "      <th>ham</th>\n",
       "      <th>spam</th>\n",
       "      <th>ham_relative</th>\n",
       "      <th>spam_relative</th>\n",
       "      <th>spam_ratio</th>\n",
       "    </tr>\n",
       "    <tr>\n",
       "      <th>token</th>\n",
       "      <th></th>\n",
       "      <th></th>\n",
       "      <th></th>\n",
       "      <th></th>\n",
       "      <th></th>\n",
       "    </tr>\n",
       "  </thead>\n",
       "  <tbody>\n",
       "    <tr>\n",
       "      <th>00</th>\n",
       "      <td>1.0</td>\n",
       "      <td>6.0</td>\n",
       "      <td>0.001245</td>\n",
       "      <td>0.023438</td>\n",
       "      <td>18.820312</td>\n",
       "    </tr>\n",
       "    <tr>\n",
       "      <th>00 easter</th>\n",
       "      <td>1.0</td>\n",
       "      <td>2.0</td>\n",
       "      <td>0.001245</td>\n",
       "      <td>0.007812</td>\n",
       "      <td>6.273438</td>\n",
       "    </tr>\n",
       "    <tr>\n",
       "      <th>00 easter prize</th>\n",
       "      <td>1.0</td>\n",
       "      <td>2.0</td>\n",
       "      <td>0.001245</td>\n",
       "      <td>0.007812</td>\n",
       "      <td>6.273438</td>\n",
       "    </tr>\n",
       "    <tr>\n",
       "      <th>00 sub</th>\n",
       "      <td>1.0</td>\n",
       "      <td>3.0</td>\n",
       "      <td>0.001245</td>\n",
       "      <td>0.011719</td>\n",
       "      <td>9.410156</td>\n",
       "    </tr>\n",
       "    <tr>\n",
       "      <th>00 sub 16</th>\n",
       "      <td>1.0</td>\n",
       "      <td>3.0</td>\n",
       "      <td>0.001245</td>\n",
       "      <td>0.011719</td>\n",
       "      <td>9.410156</td>\n",
       "    </tr>\n",
       "  </tbody>\n",
       "</table>\n",
       "</div>"
      ],
      "text/plain": [
       "                 ham  spam  ham_relative  spam_relative  spam_ratio\n",
       "token                                                              \n",
       "00               1.0   6.0      0.001245       0.023438   18.820312\n",
       "00 easter        1.0   2.0      0.001245       0.007812    6.273438\n",
       "00 easter prize  1.0   2.0      0.001245       0.007812    6.273438\n",
       "00 sub           1.0   3.0      0.001245       0.011719    9.410156\n",
       "00 sub 16        1.0   3.0      0.001245       0.011719    9.410156"
      ]
     },
     "execution_count": 124,
     "metadata": {},
     "output_type": "execute_result"
    }
   ],
   "source": [
    "tokens['ham_relative'] = tokens.ham / multi.class_count_[0]\n",
    "tokens['spam_relative'] = tokens.spam / multi.class_count_[1]\n",
    "tokens['spam_ratio'] = tokens.spam_relative / tokens.ham_relative\n",
    "tokens.head()"
   ]
  },
  {
   "cell_type": "markdown",
   "metadata": {},
   "source": [
    "Слова, чаще всего попадающиеся в сообщениях, помеченных как \"спам\""
   ]
  },
  {
   "cell_type": "code",
   "execution_count": 125,
   "metadata": {},
   "outputs": [
    {
     "data": {
      "text/html": [
       "<div>\n",
       "<style>\n",
       "    .dataframe thead tr:only-child th {\n",
       "        text-align: right;\n",
       "    }\n",
       "\n",
       "    .dataframe thead th {\n",
       "        text-align: left;\n",
       "    }\n",
       "\n",
       "    .dataframe tbody tr th {\n",
       "        vertical-align: top;\n",
       "    }\n",
       "</style>\n",
       "<table border=\"1\" class=\"dataframe\">\n",
       "  <thead>\n",
       "    <tr style=\"text-align: right;\">\n",
       "      <th></th>\n",
       "      <th>ham</th>\n",
       "      <th>spam</th>\n",
       "      <th>ham_relative</th>\n",
       "      <th>spam_relative</th>\n",
       "      <th>spam_ratio</th>\n",
       "    </tr>\n",
       "    <tr>\n",
       "      <th>token</th>\n",
       "      <th></th>\n",
       "      <th></th>\n",
       "      <th></th>\n",
       "      <th></th>\n",
       "      <th></th>\n",
       "    </tr>\n",
       "  </thead>\n",
       "  <tbody>\n",
       "    <tr>\n",
       "      <th>claim</th>\n",
       "      <td>1.0</td>\n",
       "      <td>53.0</td>\n",
       "      <td>0.001245</td>\n",
       "      <td>0.207031</td>\n",
       "      <td>166.246094</td>\n",
       "    </tr>\n",
       "    <tr>\n",
       "      <th>prize</th>\n",
       "      <td>1.0</td>\n",
       "      <td>53.0</td>\n",
       "      <td>0.001245</td>\n",
       "      <td>0.207031</td>\n",
       "      <td>166.246094</td>\n",
       "    </tr>\n",
       "    <tr>\n",
       "      <th>urgent</th>\n",
       "      <td>1.0</td>\n",
       "      <td>34.0</td>\n",
       "      <td>0.001245</td>\n",
       "      <td>0.132812</td>\n",
       "      <td>106.648438</td>\n",
       "    </tr>\n",
       "    <tr>\n",
       "      <th>www</th>\n",
       "      <td>1.0</td>\n",
       "      <td>34.0</td>\n",
       "      <td>0.001245</td>\n",
       "      <td>0.132812</td>\n",
       "      <td>106.648438</td>\n",
       "    </tr>\n",
       "    <tr>\n",
       "      <th>contact</th>\n",
       "      <td>1.0</td>\n",
       "      <td>33.0</td>\n",
       "      <td>0.001245</td>\n",
       "      <td>0.128906</td>\n",
       "      <td>103.511719</td>\n",
       "    </tr>\n",
       "    <tr>\n",
       "      <th>150p</th>\n",
       "      <td>1.0</td>\n",
       "      <td>32.0</td>\n",
       "      <td>0.001245</td>\n",
       "      <td>0.125000</td>\n",
       "      <td>100.375000</td>\n",
       "    </tr>\n",
       "    <tr>\n",
       "      <th>nokia</th>\n",
       "      <td>1.0</td>\n",
       "      <td>31.0</td>\n",
       "      <td>0.001245</td>\n",
       "      <td>0.121094</td>\n",
       "      <td>97.238281</td>\n",
       "    </tr>\n",
       "    <tr>\n",
       "      <th>cash</th>\n",
       "      <td>1.0</td>\n",
       "      <td>30.0</td>\n",
       "      <td>0.001245</td>\n",
       "      <td>0.117188</td>\n",
       "      <td>94.101562</td>\n",
       "    </tr>\n",
       "    <tr>\n",
       "      <th>guaranteed</th>\n",
       "      <td>1.0</td>\n",
       "      <td>27.0</td>\n",
       "      <td>0.001245</td>\n",
       "      <td>0.105469</td>\n",
       "      <td>84.691406</td>\n",
       "    </tr>\n",
       "    <tr>\n",
       "      <th>win</th>\n",
       "      <td>1.0</td>\n",
       "      <td>27.0</td>\n",
       "      <td>0.001245</td>\n",
       "      <td>0.105469</td>\n",
       "      <td>84.691406</td>\n",
       "    </tr>\n",
       "    <tr>\n",
       "      <th>mobile</th>\n",
       "      <td>2.0</td>\n",
       "      <td>50.0</td>\n",
       "      <td>0.002491</td>\n",
       "      <td>0.195312</td>\n",
       "      <td>78.417969</td>\n",
       "    </tr>\n",
       "    <tr>\n",
       "      <th>16</th>\n",
       "      <td>1.0</td>\n",
       "      <td>24.0</td>\n",
       "      <td>0.001245</td>\n",
       "      <td>0.093750</td>\n",
       "      <td>75.281250</td>\n",
       "    </tr>\n",
       "    <tr>\n",
       "      <th>tone</th>\n",
       "      <td>1.0</td>\n",
       "      <td>24.0</td>\n",
       "      <td>0.001245</td>\n",
       "      <td>0.093750</td>\n",
       "      <td>75.281250</td>\n",
       "    </tr>\n",
       "    <tr>\n",
       "      <th>draw</th>\n",
       "      <td>1.0</td>\n",
       "      <td>24.0</td>\n",
       "      <td>0.001245</td>\n",
       "      <td>0.093750</td>\n",
       "      <td>75.281250</td>\n",
       "    </tr>\n",
       "    <tr>\n",
       "      <th>uk</th>\n",
       "      <td>1.0</td>\n",
       "      <td>23.0</td>\n",
       "      <td>0.001245</td>\n",
       "      <td>0.089844</td>\n",
       "      <td>72.144531</td>\n",
       "    </tr>\n",
       "    <tr>\n",
       "      <th>cs</th>\n",
       "      <td>1.0</td>\n",
       "      <td>21.0</td>\n",
       "      <td>0.001245</td>\n",
       "      <td>0.082031</td>\n",
       "      <td>65.871094</td>\n",
       "    </tr>\n",
       "    <tr>\n",
       "      <th>won</th>\n",
       "      <td>2.0</td>\n",
       "      <td>41.0</td>\n",
       "      <td>0.002491</td>\n",
       "      <td>0.160156</td>\n",
       "      <td>64.302734</td>\n",
       "    </tr>\n",
       "    <tr>\n",
       "      <th>customer</th>\n",
       "      <td>1.0</td>\n",
       "      <td>20.0</td>\n",
       "      <td>0.001245</td>\n",
       "      <td>0.078125</td>\n",
       "      <td>62.734375</td>\n",
       "    </tr>\n",
       "    <tr>\n",
       "      <th>18</th>\n",
       "      <td>1.0</td>\n",
       "      <td>20.0</td>\n",
       "      <td>0.001245</td>\n",
       "      <td>0.078125</td>\n",
       "      <td>62.734375</td>\n",
       "    </tr>\n",
       "    <tr>\n",
       "      <th>awarded</th>\n",
       "      <td>1.0</td>\n",
       "      <td>20.0</td>\n",
       "      <td>0.001245</td>\n",
       "      <td>0.078125</td>\n",
       "      <td>62.734375</td>\n",
       "    </tr>\n",
       "  </tbody>\n",
       "</table>\n",
       "</div>"
      ],
      "text/plain": [
       "            ham  spam  ham_relative  spam_relative  spam_ratio\n",
       "token                                                         \n",
       "claim       1.0  53.0      0.001245       0.207031  166.246094\n",
       "prize       1.0  53.0      0.001245       0.207031  166.246094\n",
       "urgent      1.0  34.0      0.001245       0.132812  106.648438\n",
       "www         1.0  34.0      0.001245       0.132812  106.648438\n",
       "contact     1.0  33.0      0.001245       0.128906  103.511719\n",
       "150p        1.0  32.0      0.001245       0.125000  100.375000\n",
       "nokia       1.0  31.0      0.001245       0.121094   97.238281\n",
       "cash        1.0  30.0      0.001245       0.117188   94.101562\n",
       "guaranteed  1.0  27.0      0.001245       0.105469   84.691406\n",
       "win         1.0  27.0      0.001245       0.105469   84.691406\n",
       "mobile      2.0  50.0      0.002491       0.195312   78.417969\n",
       "16          1.0  24.0      0.001245       0.093750   75.281250\n",
       "tone        1.0  24.0      0.001245       0.093750   75.281250\n",
       "draw        1.0  24.0      0.001245       0.093750   75.281250\n",
       "uk          1.0  23.0      0.001245       0.089844   72.144531\n",
       "cs          1.0  21.0      0.001245       0.082031   65.871094\n",
       "won         2.0  41.0      0.002491       0.160156   64.302734\n",
       "customer    1.0  20.0      0.001245       0.078125   62.734375\n",
       "18          1.0  20.0      0.001245       0.078125   62.734375\n",
       "awarded     1.0  20.0      0.001245       0.078125   62.734375"
      ]
     },
     "execution_count": 125,
     "metadata": {},
     "output_type": "execute_result"
    }
   ],
   "source": [
    "tokens.sort_values('spam_ratio', ascending=False).head(20)"
   ]
  },
  {
   "cell_type": "markdown",
   "metadata": {},
   "source": [
    "Слова, чаще всего попадающиеся в сообщениях, помеченных как \"не спам\""
   ]
  },
  {
   "cell_type": "code",
   "execution_count": 126,
   "metadata": {},
   "outputs": [
    {
     "data": {
      "text/html": [
       "<div>\n",
       "<style>\n",
       "    .dataframe thead tr:only-child th {\n",
       "        text-align: right;\n",
       "    }\n",
       "\n",
       "    .dataframe thead th {\n",
       "        text-align: left;\n",
       "    }\n",
       "\n",
       "    .dataframe tbody tr th {\n",
       "        vertical-align: top;\n",
       "    }\n",
       "</style>\n",
       "<table border=\"1\" class=\"dataframe\">\n",
       "  <thead>\n",
       "    <tr style=\"text-align: right;\">\n",
       "      <th></th>\n",
       "      <th>ham</th>\n",
       "      <th>spam</th>\n",
       "      <th>ham_relative</th>\n",
       "      <th>spam_relative</th>\n",
       "      <th>spam_ratio</th>\n",
       "    </tr>\n",
       "    <tr>\n",
       "      <th>token</th>\n",
       "      <th></th>\n",
       "      <th></th>\n",
       "      <th></th>\n",
       "      <th></th>\n",
       "      <th></th>\n",
       "    </tr>\n",
       "  </thead>\n",
       "  <tbody>\n",
       "    <tr>\n",
       "      <th>lor</th>\n",
       "      <td>127.0</td>\n",
       "      <td>1.0</td>\n",
       "      <td>0.158157</td>\n",
       "      <td>0.003906</td>\n",
       "      <td>0.024699</td>\n",
       "    </tr>\n",
       "    <tr>\n",
       "      <th>wat</th>\n",
       "      <td>74.0</td>\n",
       "      <td>1.0</td>\n",
       "      <td>0.092154</td>\n",
       "      <td>0.003906</td>\n",
       "      <td>0.042388</td>\n",
       "    </tr>\n",
       "    <tr>\n",
       "      <th>da</th>\n",
       "      <td>52.0</td>\n",
       "      <td>1.0</td>\n",
       "      <td>0.064757</td>\n",
       "      <td>0.003906</td>\n",
       "      <td>0.060322</td>\n",
       "    </tr>\n",
       "    <tr>\n",
       "      <th>dun</th>\n",
       "      <td>47.0</td>\n",
       "      <td>1.0</td>\n",
       "      <td>0.058531</td>\n",
       "      <td>0.003906</td>\n",
       "      <td>0.066739</td>\n",
       "    </tr>\n",
       "    <tr>\n",
       "      <th>home</th>\n",
       "      <td>46.0</td>\n",
       "      <td>1.0</td>\n",
       "      <td>0.057285</td>\n",
       "      <td>0.003906</td>\n",
       "      <td>0.068190</td>\n",
       "    </tr>\n",
       "    <tr>\n",
       "      <th>thk</th>\n",
       "      <td>44.0</td>\n",
       "      <td>1.0</td>\n",
       "      <td>0.054795</td>\n",
       "      <td>0.003906</td>\n",
       "      <td>0.071289</td>\n",
       "    </tr>\n",
       "    <tr>\n",
       "      <th>come</th>\n",
       "      <td>43.0</td>\n",
       "      <td>1.0</td>\n",
       "      <td>0.053549</td>\n",
       "      <td>0.003906</td>\n",
       "      <td>0.072947</td>\n",
       "    </tr>\n",
       "    <tr>\n",
       "      <th>hey</th>\n",
       "      <td>41.0</td>\n",
       "      <td>1.0</td>\n",
       "      <td>0.051059</td>\n",
       "      <td>0.003906</td>\n",
       "      <td>0.076505</td>\n",
       "    </tr>\n",
       "    <tr>\n",
       "      <th>im</th>\n",
       "      <td>40.0</td>\n",
       "      <td>1.0</td>\n",
       "      <td>0.049813</td>\n",
       "      <td>0.003906</td>\n",
       "      <td>0.078418</td>\n",
       "    </tr>\n",
       "    <tr>\n",
       "      <th>cos</th>\n",
       "      <td>39.0</td>\n",
       "      <td>1.0</td>\n",
       "      <td>0.048568</td>\n",
       "      <td>0.003906</td>\n",
       "      <td>0.080429</td>\n",
       "    </tr>\n",
       "    <tr>\n",
       "      <th>got</th>\n",
       "      <td>72.0</td>\n",
       "      <td>2.0</td>\n",
       "      <td>0.089664</td>\n",
       "      <td>0.007812</td>\n",
       "      <td>0.087131</td>\n",
       "    </tr>\n",
       "    <tr>\n",
       "      <th>yup</th>\n",
       "      <td>36.0</td>\n",
       "      <td>1.0</td>\n",
       "      <td>0.044832</td>\n",
       "      <td>0.003906</td>\n",
       "      <td>0.087131</td>\n",
       "    </tr>\n",
       "    <tr>\n",
       "      <th>lar</th>\n",
       "      <td>34.0</td>\n",
       "      <td>1.0</td>\n",
       "      <td>0.042341</td>\n",
       "      <td>0.003906</td>\n",
       "      <td>0.092256</td>\n",
       "    </tr>\n",
       "    <tr>\n",
       "      <th>ok</th>\n",
       "      <td>102.0</td>\n",
       "      <td>3.0</td>\n",
       "      <td>0.127024</td>\n",
       "      <td>0.011719</td>\n",
       "      <td>0.092256</td>\n",
       "    </tr>\n",
       "    <tr>\n",
       "      <th>later</th>\n",
       "      <td>31.0</td>\n",
       "      <td>1.0</td>\n",
       "      <td>0.038605</td>\n",
       "      <td>0.003906</td>\n",
       "      <td>0.101184</td>\n",
       "    </tr>\n",
       "    <tr>\n",
       "      <th>liao</th>\n",
       "      <td>30.0</td>\n",
       "      <td>1.0</td>\n",
       "      <td>0.037360</td>\n",
       "      <td>0.003906</td>\n",
       "      <td>0.104557</td>\n",
       "    </tr>\n",
       "    <tr>\n",
       "      <th>den</th>\n",
       "      <td>28.0</td>\n",
       "      <td>1.0</td>\n",
       "      <td>0.034869</td>\n",
       "      <td>0.003906</td>\n",
       "      <td>0.112026</td>\n",
       "    </tr>\n",
       "    <tr>\n",
       "      <th>ask</th>\n",
       "      <td>28.0</td>\n",
       "      <td>1.0</td>\n",
       "      <td>0.034869</td>\n",
       "      <td>0.003906</td>\n",
       "      <td>0.112026</td>\n",
       "    </tr>\n",
       "    <tr>\n",
       "      <th>leh</th>\n",
       "      <td>27.0</td>\n",
       "      <td>1.0</td>\n",
       "      <td>0.033624</td>\n",
       "      <td>0.003906</td>\n",
       "      <td>0.116175</td>\n",
       "    </tr>\n",
       "    <tr>\n",
       "      <th>haha</th>\n",
       "      <td>26.0</td>\n",
       "      <td>1.0</td>\n",
       "      <td>0.032379</td>\n",
       "      <td>0.003906</td>\n",
       "      <td>0.120643</td>\n",
       "    </tr>\n",
       "  </tbody>\n",
       "</table>\n",
       "</div>"
      ],
      "text/plain": [
       "         ham  spam  ham_relative  spam_relative  spam_ratio\n",
       "token                                                      \n",
       "lor    127.0   1.0      0.158157       0.003906    0.024699\n",
       "wat     74.0   1.0      0.092154       0.003906    0.042388\n",
       "da      52.0   1.0      0.064757       0.003906    0.060322\n",
       "dun     47.0   1.0      0.058531       0.003906    0.066739\n",
       "home    46.0   1.0      0.057285       0.003906    0.068190\n",
       "thk     44.0   1.0      0.054795       0.003906    0.071289\n",
       "come    43.0   1.0      0.053549       0.003906    0.072947\n",
       "hey     41.0   1.0      0.051059       0.003906    0.076505\n",
       "im      40.0   1.0      0.049813       0.003906    0.078418\n",
       "cos     39.0   1.0      0.048568       0.003906    0.080429\n",
       "got     72.0   2.0      0.089664       0.007812    0.087131\n",
       "yup     36.0   1.0      0.044832       0.003906    0.087131\n",
       "lar     34.0   1.0      0.042341       0.003906    0.092256\n",
       "ok     102.0   3.0      0.127024       0.011719    0.092256\n",
       "later   31.0   1.0      0.038605       0.003906    0.101184\n",
       "liao    30.0   1.0      0.037360       0.003906    0.104557\n",
       "den     28.0   1.0      0.034869       0.003906    0.112026\n",
       "ask     28.0   1.0      0.034869       0.003906    0.112026\n",
       "leh     27.0   1.0      0.033624       0.003906    0.116175\n",
       "haha    26.0   1.0      0.032379       0.003906    0.120643"
      ]
     },
     "execution_count": 126,
     "metadata": {},
     "output_type": "execute_result"
    }
   ],
   "source": [
    "tokens.sort_values('spam_ratio', ascending=True).head(20)"
   ]
  }
 ],
 "metadata": {
  "kernelspec": {
   "display_name": "Python 3",
   "language": "python",
   "name": "python3"
  },
  "language_info": {
   "codemirror_mode": {
    "name": "ipython",
    "version": 3
   },
   "file_extension": ".py",
   "mimetype": "text/x-python",
   "name": "python",
   "nbconvert_exporter": "python",
   "pygments_lexer": "ipython3",
   "version": "3.5.3"
  }
 },
 "nbformat": 4,
 "nbformat_minor": 2
}
